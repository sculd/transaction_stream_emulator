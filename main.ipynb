{
 "cells": [
  {
   "cell_type": "code",
   "execution_count": null,
   "metadata": {},
   "outputs": [],
   "source": [
    "import emitter, pubsub, aggregator, database\n",
    "import time\n",
    "\n",
    "def init():\n",
    "    emitter.init()\n",
    "    database.init_and_reset()\n",
    "\n",
    "if __name__ == '__main__':\n",
    "    init()\n",
    "    to_timestamp = int(time.time())\n",
    "    from_timestamp = to_timestamp - 10 * 3600\n",
    "    emitter.emit_spends(from_timestamp, to_timestamp)\n",
    "    aggregator.process(from_timestamp, to_timestamp)"
   ]
  },
  {
   "cell_type": "code",
   "execution_count": null,
   "metadata": {},
   "outputs": [],
   "source": []
  }
 ],
 "metadata": {
  "kernelspec": {
   "display_name": "Python 3",
   "language": "python",
   "name": "python3"
  },
  "language_info": {
   "codemirror_mode": {
    "name": "ipython",
    "version": 3
   },
   "file_extension": ".py",
   "mimetype": "text/x-python",
   "name": "python",
   "nbconvert_exporter": "python",
   "pygments_lexer": "ipython3",
   "version": "3.6.3"
  }
 },
 "nbformat": 4,
 "nbformat_minor": 2
}
