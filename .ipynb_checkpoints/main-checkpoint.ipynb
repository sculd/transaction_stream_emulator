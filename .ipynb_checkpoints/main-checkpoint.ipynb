{
 "cells": [
  {
   "cell_type": "code",
   "execution_count": 3,
   "metadata": {},
   "outputs": [
    {
     "name": "stdout",
     "output_type": "stream",
     "text": [
      "data: {\"timestamp\": 1534736461, \"user_id\": \"u1\", \"spend\": 47.98}\n",
      "data: {\"timestamp\": 1534737546, \"user_id\": \"u1\", \"spend\": 69.53}\n",
      "data: {\"timestamp\": 1534738569, \"user_id\": \"u1\", \"spend\": 37.69}\n",
      "data: {\"timestamp\": 1534738663, \"user_id\": \"u2\", \"spend\": 45.94}\n",
      "data: {\"timestamp\": 1534742458, \"user_id\": \"u2\", \"spend\": 82.66}\n",
      "data: {\"timestamp\": 1534742645, \"user_id\": \"u2\", \"spend\": 52.5}\n",
      "data: {\"timestamp\": 1534743174, \"user_id\": \"u1\", \"spend\": 46.56}\n",
      "data: {\"timestamp\": 1534743744, \"user_id\": \"u1\", \"spend\": 73.65}\n",
      "data: {\"timestamp\": 1534745071, \"user_id\": \"u2\", \"spend\": 57.14}\n",
      "data: {\"timestamp\": 1534745435, \"user_id\": \"u2\", \"spend\": 59.31}\n",
      "data: {\"timestamp\": 1534747743, \"user_id\": \"u1\", \"spend\": 76.59}\n",
      "data: {\"timestamp\": 1534747984, \"user_id\": \"u1\", \"spend\": 79.05}\n",
      "data: {\"timestamp\": 1534751068, \"user_id\": \"u1\", \"spend\": 74.3}\n",
      "data: {\"timestamp\": 1534751184, \"user_id\": \"u2\", \"spend\": 28.94}\n",
      "data: {\"timestamp\": 1534752350, \"user_id\": \"u1\", \"spend\": 96.0}\n",
      "data: {\"timestamp\": 1534752598, \"user_id\": \"u1\", \"spend\": 59.55}\n",
      "data: {\"timestamp\": 1534752767, \"user_id\": \"u1\", \"spend\": 70.17}\n",
      "data: {\"timestamp\": 1534754673, \"user_id\": \"u1\", \"spend\": 71.27}\n",
      "data: {\"timestamp\": 1534755468, \"user_id\": \"u2\", \"spend\": 65.93}\n",
      "data: {\"timestamp\": 1534755635, \"user_id\": \"u2\", \"spend\": 55.9}\n",
      "data: {\"timestamp\": 1534756761, \"user_id\": \"u1\", \"spend\": 61.62}\n",
      "data: {\"timestamp\": 1534756888, \"user_id\": \"u1\", \"spend\": 72.62}\n",
      "msg: {\"timestamp\": 1534736461, \"user_id\": \"u1\", \"spend\": 47.98}\n",
      "msg: {\"timestamp\": 1534737546, \"user_id\": \"u1\", \"spend\": 69.53}\n",
      "msg: {\"timestamp\": 1534738569, \"user_id\": \"u1\", \"spend\": 37.69}\n",
      "msg: {\"timestamp\": 1534738663, \"user_id\": \"u2\", \"spend\": 45.94}\n",
      "msg: {\"timestamp\": 1534742458, \"user_id\": \"u2\", \"spend\": 82.66}\n",
      "msg: {\"timestamp\": 1534742645, \"user_id\": \"u2\", \"spend\": 52.5}\n",
      "msg: {\"timestamp\": 1534743174, \"user_id\": \"u1\", \"spend\": 46.56}\n",
      "msg: {\"timestamp\": 1534743744, \"user_id\": \"u1\", \"spend\": 73.65}\n",
      "msg: {\"timestamp\": 1534745071, \"user_id\": \"u2\", \"spend\": 57.14}\n",
      "msg: {\"timestamp\": 1534745435, \"user_id\": \"u2\", \"spend\": 59.31}\n",
      "msg: {\"timestamp\": 1534747743, \"user_id\": \"u1\", \"spend\": 76.59}\n",
      "msg: {\"timestamp\": 1534747984, \"user_id\": \"u1\", \"spend\": 79.05}\n",
      "msg: {\"timestamp\": 1534751068, \"user_id\": \"u1\", \"spend\": 74.3}\n",
      "msg: {\"timestamp\": 1534751184, \"user_id\": \"u2\", \"spend\": 28.94}\n",
      "msg: {\"timestamp\": 1534752350, \"user_id\": \"u1\", \"spend\": 96.0}\n",
      "msg: {\"timestamp\": 1534752598, \"user_id\": \"u1\", \"spend\": 59.55}\n",
      "msg: {\"timestamp\": 1534752767, \"user_id\": \"u1\", \"spend\": 70.17}\n",
      "msg: {\"timestamp\": 1534754673, \"user_id\": \"u1\", \"spend\": 71.27}\n",
      "msg: {\"timestamp\": 1534755468, \"user_id\": \"u2\", \"spend\": 65.93}\n",
      "msg: {\"timestamp\": 1534755635, \"user_id\": \"u2\", \"spend\": 55.9}\n",
      "msg: {\"timestamp\": 1534756761, \"user_id\": \"u1\", \"spend\": 61.62}\n",
      "msg: {\"timestamp\": 1534756888, \"user_id\": \"u1\", \"spend\": 72.62}\n"
     ]
    },
    {
     "ename": "NameError",
     "evalue": "name 'df_truncate_by_minute' is not defined",
     "output_type": "error",
     "traceback": [
      "\u001b[0;31m---------------------------------------------------------------------------\u001b[0m",
      "\u001b[0;31mNameError\u001b[0m                                 Traceback (most recent call last)",
      "\u001b[0;32m<ipython-input-3-f036ab74d5b4>\u001b[0m in \u001b[0;36m<module>\u001b[0;34m()\u001b[0m\n\u001b[1;32m     11\u001b[0m     \u001b[0mfrom_timestamp\u001b[0m \u001b[0;34m=\u001b[0m \u001b[0mto_timestamp\u001b[0m \u001b[0;34m-\u001b[0m \u001b[0;36m6\u001b[0m \u001b[0;34m*\u001b[0m \u001b[0;36m3600\u001b[0m\u001b[0;34m\u001b[0m\u001b[0m\n\u001b[1;32m     12\u001b[0m     \u001b[0memitter\u001b[0m\u001b[0;34m.\u001b[0m\u001b[0memit_spends\u001b[0m\u001b[0;34m(\u001b[0m\u001b[0mfrom_timestamp\u001b[0m\u001b[0;34m,\u001b[0m \u001b[0mto_timestamp\u001b[0m\u001b[0;34m)\u001b[0m\u001b[0;34m\u001b[0m\u001b[0m\n\u001b[0;32m---> 13\u001b[0;31m     \u001b[0maggregator\u001b[0m\u001b[0;34m.\u001b[0m\u001b[0mprocess\u001b[0m\u001b[0;34m(\u001b[0m\u001b[0mfrom_timestamp\u001b[0m\u001b[0;34m,\u001b[0m \u001b[0mto_timestamp\u001b[0m\u001b[0;34m)\u001b[0m\u001b[0;34m\u001b[0m\u001b[0m\n\u001b[0m",
      "\u001b[0;32m~/Documents/projects/transaction_stream_emulator/aggregator.py\u001b[0m in \u001b[0;36mprocess\u001b[0;34m(from_timestamp, to_timestamp)\u001b[0m\n\u001b[1;32m     77\u001b[0m \u001b[0;32mdef\u001b[0m \u001b[0mprocess\u001b[0m\u001b[0;34m(\u001b[0m\u001b[0mfrom_timestamp\u001b[0m\u001b[0;34m,\u001b[0m \u001b[0mto_timestamp\u001b[0m\u001b[0;34m)\u001b[0m\u001b[0;34m:\u001b[0m\u001b[0;34m\u001b[0m\u001b[0m\n\u001b[1;32m     78\u001b[0m     \u001b[0m_consume_subscription_queue\u001b[0m\u001b[0;34m(\u001b[0m\u001b[0mconfig\u001b[0m\u001b[0;34m.\u001b[0m\u001b[0mget_config\u001b[0m\u001b[0;34m(\u001b[0m\u001b[0;34m)\u001b[0m\u001b[0;34m[\u001b[0m\u001b[0;34m'pubsub'\u001b[0m\u001b[0;34m]\u001b[0m\u001b[0;34m[\u001b[0m\u001b[0;34m'subscription_id'\u001b[0m\u001b[0;34m]\u001b[0m\u001b[0;34m)\u001b[0m\u001b[0;34m\u001b[0m\u001b[0m\n\u001b[0;32m---> 79\u001b[0;31m     \u001b[0m_aggregate\u001b[0m\u001b[0;34m(\u001b[0m\u001b[0mfrom_timestamp\u001b[0m\u001b[0;34m,\u001b[0m \u001b[0mto_timestamp\u001b[0m\u001b[0;34m)\u001b[0m\u001b[0;34m\u001b[0m\u001b[0m\n\u001b[0m\u001b[1;32m     80\u001b[0m \u001b[0;34m\u001b[0m\u001b[0m\n\u001b[1;32m     81\u001b[0m \u001b[0;34m\u001b[0m\u001b[0m\n",
      "\u001b[0;32m~/Documents/projects/transaction_stream_emulator/aggregator.py\u001b[0m in \u001b[0;36m_aggregate\u001b[0;34m(from_timestamp, to_timestamp)\u001b[0m\n\u001b[1;32m     64\u001b[0m     \u001b[0;31m# the sum is aggregated over the per-minute calculation, thus to avoid doing the minute level\u001b[0m\u001b[0;34m\u001b[0m\u001b[0;34m\u001b[0m\u001b[0m\n\u001b[1;32m     65\u001b[0m     \u001b[0;31m# aggregation again, would boost the speed when the volume is high.\u001b[0m\u001b[0;34m\u001b[0m\u001b[0;34m\u001b[0m\u001b[0m\n\u001b[0;32m---> 66\u001b[0;31m     \u001b[0msum_by_user_id\u001b[0m \u001b[0;34m=\u001b[0m  \u001b[0msum_by_hour_by_user_id\u001b[0m\u001b[0;34m.\u001b[0m\u001b[0mgroupby\u001b[0m\u001b[0;34m(\u001b[0m\u001b[0msum_by_hour_by_user_id\u001b[0m\u001b[0;34m.\u001b[0m\u001b[0muser_id\u001b[0m\u001b[0;34m)\u001b[0m\u001b[0;31m\\\u001b[0m\u001b[0;34m\u001b[0m\u001b[0m\n\u001b[0m\u001b[1;32m     67\u001b[0m         \u001b[0;34m.\u001b[0m\u001b[0magg\u001b[0m\u001b[0;34m(\u001b[0m\u001b[0;34m{\u001b[0m\u001b[0;34m\"spend\"\u001b[0m\u001b[0;34m:\u001b[0m \u001b[0;34m\"sum\"\u001b[0m\u001b[0;34m}\u001b[0m\u001b[0;34m)\u001b[0m\u001b[0;31m\\\u001b[0m\u001b[0;34m\u001b[0m\u001b[0m\n\u001b[1;32m     68\u001b[0m         \u001b[0;34m.\u001b[0m\u001b[0mwithColumnRenamed\u001b[0m\u001b[0;34m(\u001b[0m\u001b[0;34m'sum(spend)'\u001b[0m\u001b[0;34m,\u001b[0m \u001b[0;34m'spend'\u001b[0m\u001b[0;34m)\u001b[0m\u001b[0;31m \u001b[0m\u001b[0;31m\\\u001b[0m\u001b[0;34m\u001b[0m\u001b[0m\n",
      "\u001b[0;31mNameError\u001b[0m: name 'df_truncate_by_minute' is not defined"
     ]
    }
   ],
   "source": [
    "import emitter, pubsub, aggregator, database\n",
    "import time\n",
    "\n",
    "def init():\n",
    "    emitter.init()\n",
    "    database.init_and_reset()\n",
    "\n",
    "if __name__ == '__main__':\n",
    "    init()\n",
    "    to_timestamp = int(time.time())\n",
    "    from_timestamp = to_timestamp - 6 * 3600\n",
    "    emitter.emit_spends(from_timestamp, to_timestamp)\n",
    "    aggregator.process(from_timestamp, to_timestamp)"
   ]
  },
  {
   "cell_type": "code",
   "execution_count": null,
   "metadata": {},
   "outputs": [],
   "source": []
  }
 ],
 "metadata": {
  "kernelspec": {
   "display_name": "Python 3",
   "language": "python",
   "name": "python3"
  },
  "language_info": {
   "codemirror_mode": {
    "name": "ipython",
    "version": 3
   },
   "file_extension": ".py",
   "mimetype": "text/x-python",
   "name": "python",
   "nbconvert_exporter": "python",
   "pygments_lexer": "ipython3",
   "version": "3.6.3"
  }
 },
 "nbformat": 4,
 "nbformat_minor": 2
}
