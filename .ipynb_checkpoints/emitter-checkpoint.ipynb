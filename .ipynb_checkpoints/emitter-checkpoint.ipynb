{
 "cells": [
  {
   "cell_type": "code",
   "execution_count": null,
   "metadata": {},
   "outputs": [],
   "source": [
    "import config\n",
    "import pubsub, queue, numpy as np, yaml\n",
    "\n",
    "_USERS = {}\n",
    "\n",
    "def init():\n",
    "    # users\n",
    "    users = config.get_config()['users']\n",
    "    for user in users:\n",
    "        for user in users:\n",
    "            _USERS[user['user_id']] = user['user_info']\n",
    "\n",
    "    # pubsub\n",
    "    pubsub.create_subscription(config.get_config()['pubsub']['topic_id'], config.get_config()['pubsub']['subscription_id'])\n",
    "\n",
    "def _sample_spend():\n",
    "    return round(np.random.uniform(20,100), 2)\n",
    "\n",
    "def _emit_spend(timestamp, user_id, spend):\n",
    "    pubsub.publish(config.get_config()['pubsub']['topic_id'], timestamp=timestamp, user_id=user_id, spend=spend)\n",
    "\n",
    "def emit_spends(from_timestamp, to_timestamp):\n",
    "    # the heap keeps the (<next event timestamp>, (user_id, spend))\n",
    "    pq = queue.PriorityQueue()\n",
    "    for u_id, u_info in _USERS.items():\n",
    "        # decide the next expenditure for each user\n",
    "        wait = int(np.random.exponential(u_info['scale']))\n",
    "        pq.put((from_timestamp + wait, (u_id, _sample_spend())))\n",
    "\n",
    "    while pq.qsize() > 0:\n",
    "        next_spent = pq.get()\n",
    "        when = next_spent[0]\n",
    "        if when > to_timestamp: break\n",
    "        u_id, spend = next_spent[1][0], next_spent[1][1]\n",
    "        _emit_spend(when, u_id, spend)\n",
    "        # decide the next expenditure after emit a signal\n",
    "        wait = int(np.random.exponential(_USERS[u_id]['scale']))\n",
    "        pq.put((when + wait, (u_id, _sample_spend())))\n"
   ]
  }
 ],
 "metadata": {
  "kernelspec": {
   "display_name": "Python 3",
   "language": "python",
   "name": "python3"
  },
  "language_info": {
   "codemirror_mode": {
    "name": "ipython",
    "version": 3
   },
   "file_extension": ".py",
   "mimetype": "text/x-python",
   "name": "python",
   "nbconvert_exporter": "python",
   "pygments_lexer": "ipython3",
   "version": "3.6.3"
  }
 },
 "nbformat": 4,
 "nbformat_minor": 2
}
