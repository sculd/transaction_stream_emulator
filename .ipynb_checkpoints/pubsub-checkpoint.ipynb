{
 "cells": [
  {
   "cell_type": "code",
   "execution_count": null,
   "metadata": {},
   "outputs": [],
   "source": [
    "from collections import defaultdict\n",
    "from queue import deque\n",
    "import json\n",
    "\n",
    "# dict of topic to set of subscriptions\n",
    "_SUBSCRIPTIONS = defaultdict(set)\n",
    "\n",
    "# keeps messages published to subscription.\n",
    "# note: pubsub does not maintain anything if a topic has no subscriber.\n",
    "# the messages are piled in the received order.\n",
    "_PUBLISHED_MESSAGES = defaultdict(deque)\n",
    "\n",
    "def publish(topic_id, **data):\n",
    "    def _get_payload():\n",
    "        return json.dumps(data).encode()\n",
    "    print('data: {}'.format(json.dumps(data)))\n",
    "    for sub_id in _SUBSCRIPTIONS[topic_id]:\n",
    "        _PUBLISHED_MESSAGES[sub_id].append(_get_payload())\n",
    "\n",
    "def create_subscription(topic_id, subscription_id):\n",
    "    if subscription_id not in _SUBSCRIPTIONS[topic_id]:\n",
    "        _SUBSCRIPTIONS[topic_id].add(subscription_id)\n",
    "\n",
    "def delete_subscription(topic_id, subscription_id):\n",
    "    _SUBSCRIPTIONS[topic_id].discard(subscription_id)\n",
    "\n",
    "def listen_to_subscription(subscription_id, callback):\n",
    "    while len(_PUBLISHED_MESSAGES[subscription_id]) > 0:\n",
    "        msg = _PUBLISHED_MESSAGES[subscription_id].popleft()\n",
    "        callback(msg)\n"
   ]
  }
 ],
 "metadata": {
  "kernelspec": {
   "display_name": "Python 3",
   "language": "python",
   "name": "python3"
  },
  "language_info": {
   "codemirror_mode": {
    "name": "ipython",
    "version": 3
   },
   "file_extension": ".py",
   "mimetype": "text/x-python",
   "name": "python",
   "nbconvert_exporter": "python",
   "pygments_lexer": "ipython3",
   "version": "3.6.3"
  }
 },
 "nbformat": 4,
 "nbformat_minor": 2
}
